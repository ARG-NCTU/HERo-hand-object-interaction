{
 "cells": [
  {
   "cell_type": "code",
   "execution_count": null,
   "id": "colored-commodity",
   "metadata": {},
   "outputs": [],
   "source": [
    "import cv2\n",
    "import numpy as np\n",
    "import matplotlib.pyplot as plt\n",
    "import math\n",
    "from skimage.draw import polygon\n",
    "from skimage.feature import peak_local_max\n",
    "import torch.nn.functional as F\n",
    "import json\n",
    "import os\n",
    "from random import sample"
   ]
  },
  {
   "cell_type": "markdown",
   "id": "accessible-midwest",
   "metadata": {},
   "source": [
    "# Define file path"
   ]
  },
  {
   "cell_type": "code",
   "execution_count": null,
   "id": "mechanical-moderator",
   "metadata": {},
   "outputs": [],
   "source": [
    "# Contain 'color' , 'depth' , 'label' , 'json' folders\n",
    "path = '/dataset'\n",
    "File = os.listdir(os.getcwd() + path + \"/json\")\n",
    "File.sort()"
   ]
  },
  {
   "cell_type": "markdown",
   "id": "previous-veteran",
   "metadata": {},
   "source": [
    "# Create data name list"
   ]
  },
  {
   "cell_type": "code",
   "execution_count": null,
   "id": "nasty-pathology",
   "metadata": {},
   "outputs": [],
   "source": [
    "name = os.listdir(os.getcwd() + path + \"/color\")\n",
    "name_list = []\n",
    "for num in name:\n",
    "    name_list.append(num.split('_')[1].split('.')[0])"
   ]
  },
  {
   "cell_type": "markdown",
   "id": "latest-drove",
   "metadata": {},
   "source": [
    "# Draw label"
   ]
  },
  {
   "cell_type": "code",
   "execution_count": null,
   "id": "powerful-confidentiality",
   "metadata": {},
   "outputs": [],
   "source": [
    "for name in File:\n",
    "    label = np.zeros((256,256,3))\n",
    "    with open(os.getcwd() + path + \"/json\" + \"/\" + name,\"r\") as f:\n",
    "        data = json.load(f)\n",
    "        \n",
    "    for i in range(len(data['shapes'])):\n",
    "        coord = data['shapes'][i]['points']\n",
    "        if data['shapes'][i]['label'] == 'good':\n",
    "            cv2.line(label, (int(coord[0][0]), int(coord[0][1])), (int(coord[1][0]), int(coord[1][1])), (0,255,0),2)\n",
    "        else:\n",
    "            cv2.line(label, (int(coord[0][0]), int(coord[0][1])), (int(coord[1][0]), int(coord[1][1])), (255,0,0),2)\n",
    "\n",
    "        cv2.imwrite(os.getcwd() + path + \"/label/label_\" + name.split('.')[0].split('_')[1] + \".jpg\", label[:,:,[2,1,0]])"
   ]
  },
  {
   "cell_type": "markdown",
   "id": "exotic-practice",
   "metadata": {},
   "source": [
    "# Flip 3 times (horizontal, vertical, horizontal and vertical)"
   ]
  },
  {
   "cell_type": "code",
   "execution_count": null,
   "id": "measured-union",
   "metadata": {},
   "outputs": [],
   "source": [
    "for idx in name_list:\n",
    "    color = cv2.imread(os.getcwd() + path + \"/color/color_\" + idx + \".jpg\")\n",
    "    depth = cv2.imread(os.getcwd() + path + \"/depth/depth_\" + idx + \".jpg\")\n",
    "    label = cv2.imread(os.getcwd() + path + \"/label/label_\" + idx + \".jpg\")\n",
    "    \n",
    "    for n in range(-1,2):\n",
    "        color_ = cv2.flip(color,n)\n",
    "        depth_ = cv2.flip(depth,n)\n",
    "        label_ = cv2.flip(label,n)\n",
    "        cv2.imwrite(os.getcwd() + path + \"/color/color_\" + idx + \"_\" + str(n+1) + \".jpg\", color_)\n",
    "        cv2.imwrite(os.getcwd() + path + \"/depth/depth_\" + idx + \"_\" + str(n+1) + \".jpg\", depth_)\n",
    "        cv2.imwrite(os.getcwd() + path + \"/label/label_\" + idx + \"_\" + str(n+1) + \".jpg\", label_)\n"
   ]
  },
  {
   "cell_type": "markdown",
   "id": "impaired-fountain",
   "metadata": {},
   "source": [
    "# Create training & testing list"
   ]
  },
  {
   "cell_type": "code",
   "execution_count": null,
   "id": "rubber-phone",
   "metadata": {},
   "outputs": [],
   "source": [
    "image_file = os.listdir(os.getcwd() + path + \"/color\")\n",
    "image_file.sort()\n",
    "\n",
    "data_list = []\n",
    "for name in image_file:\n",
    "    data_list.append(name.split(\"color\")[1])\n",
    "\n",
    "test = sample(data_list, 10)\n",
    "\n",
    "train = list(set(data_list).difference(set(test)))\n",
    "\n",
    "f = open(os.getcwd() + path + \"/test.txt\", \"a\")\n",
    "for idx in test:\n",
    "    f.write( idx + \"\\n\")\n",
    "f.close()\n",
    "\n",
    "f = open(os.getcwd() + path + \"/train.txt\", \"a\")\n",
    "for idx in train:\n",
    "    f.write(idx + \"\\n\")\n",
    "f.close()"
   ]
  }
 ],
 "metadata": {
  "kernelspec": {
   "display_name": "Python 3",
   "language": "python",
   "name": "python3"
  },
  "language_info": {
   "codemirror_mode": {
    "name": "ipython",
    "version": 3
   },
   "file_extension": ".py",
   "mimetype": "text/x-python",
   "name": "python",
   "nbconvert_exporter": "python",
   "pygments_lexer": "ipython3",
   "version": "3.6.9"
  }
 },
 "nbformat": 4,
 "nbformat_minor": 5
}
